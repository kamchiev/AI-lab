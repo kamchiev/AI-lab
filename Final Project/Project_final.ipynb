{
  "nbformat": 4,
  "nbformat_minor": 0,
  "metadata": {
    "colab": {
      "provenance": [],
      "collapsed_sections": [
        "ffA0PpIhAOw3",
        "jvH32rvLGLym",
        "rY8WH3HrFYHF",
        "ZfVNjjPRFgAV",
        "D83tm2QEAgs4",
        "IJZcT29GBLpZ"
      ]
    },
    "kernelspec": {
      "name": "python3",
      "display_name": "Python 3"
    },
    "language_info": {
      "name": "python"
    }
  },
  "cells": [
    {
      "cell_type": "code",
      "source": [
        "from google.colab import drive\n",
        "drive.mount('/content/drive')"
      ],
      "metadata": {
        "id": "EPnDxvVxcHza"
      },
      "execution_count": null,
      "outputs": []
    },
    {
      "cell_type": "markdown",
      "source": [
        "# LOADING THE DATA"
      ],
      "metadata": {
        "id": "ffA0PpIhAOw3"
      }
    },
    {
      "cell_type": "code",
      "source": [
        "import os\n",
        "import zipfile"
      ],
      "metadata": {
        "id": "l3Zl_fcejndd"
      },
      "execution_count": 31,
      "outputs": []
    },
    {
      "cell_type": "code",
      "source": [
        "os.makedirs(\"/content/data\")"
      ],
      "metadata": {
        "id": "9KyP2gVsxviY"
      },
      "execution_count": 6,
      "outputs": []
    },
    {
      "cell_type": "code",
      "source": [
        "with zipfile.ZipFile(\"/content/drive/MyDrive/Colab Notebooks/AI lab: final project/groceries.zip\", 'r') as zf:\n",
        "    zf.extractall(\"/content/data\")"
      ],
      "metadata": {
        "id": "zh5mqUP0x8FP"
      },
      "execution_count": 32,
      "outputs": []
    },
    {
      "cell_type": "code",
      "source": [
        "with zipfile.ZipFile(\"/content/drive/MyDrive/Colab Notebooks/AI lab: final project/recipes.zip\", 'r') as zf:\n",
        "    zf.extractall(\"/content\")"
      ],
      "metadata": {
        "id": "KqzI8zfTdFtA"
      },
      "execution_count": 33,
      "outputs": []
    },
    {
      "cell_type": "code",
      "source": [
        "pip install torchmetrics"
      ],
      "metadata": {
        "id": "zS3fkNjtdsFY",
        "collapsed": true
      },
      "execution_count": null,
      "outputs": []
    },
    {
      "cell_type": "markdown",
      "source": [
        "# CREATING THE MODEL\n",
        "\n"
      ],
      "metadata": {
        "id": "jvH32rvLGLym"
      }
    },
    {
      "cell_type": "code",
      "source": [
        "import cv2\n",
        "import numpy as np\n",
        "import pandas as pd\n",
        "import torch\n",
        "import seaborn as sns\n",
        "import matplotlib.pyplot as plt\n",
        "import torchmetrics\n",
        "import math\n",
        "import ast\n",
        "import textwrap\n",
        "import matplotlib.image as img\n",
        "from torchvision.datasets import ImageFolder\n",
        "from torchvision import transforms\n",
        "from torch.utils.data import Dataset, DataLoader\n",
        "from torchvision import datasets\n",
        "from torchvision.transforms import ToTensor\n",
        "from torch import nn\n",
        "from PIL import Image\n",
        "from sklearn.feature_extraction.text import TfidfVectorizer\n",
        "from sklearn.neighbors import NearestNeighbors\n",
        "from sklearn.metrics import accuracy_score, classification_report\n",
        "from collections import Counter"
      ],
      "metadata": {
        "id": "ShTpDmGeW0LL"
      },
      "execution_count": 67,
      "outputs": []
    },
    {
      "cell_type": "markdown",
      "source": [
        "RESIZE THE IMAGES\n",
        "\n",
        "    This part recursevely visits all the file directories. It resizes all the images,\n",
        "    converts them to the same format and saves the result images to resized_images folder"
      ],
      "metadata": {
        "id": "N_wjSrDDF7A1"
      }
    },
    {
      "cell_type": "code",
      "source": [
        "def resize_images(source_folder, output_folder, new_size=(128, 128)):\n",
        "\n",
        "    if not os.path.exists(output_folder):\n",
        "        os.makedirs(output_folder)\n",
        "\n",
        "    for item in os.listdir(source_folder):\n",
        "        source_path = source_folder + \"/\"+ item\n",
        "        output_path = output_folder + \"/\" + item\n",
        "\n",
        "        if os.path.isfile(source_path):\n",
        "            try:\n",
        "                with Image.open(source_path) as img:\n",
        "                    # Handling palette images with transparency\n",
        "                    if img.mode == \"P\":\n",
        "                        img = img.convert(\"RGBA\")  # Convert to RGBA and then convert to RGB\n",
        "                        img = img.convert(\"RGB\")\n",
        "\n",
        "                    elif img.mode == \"RGBA\":\n",
        "                        img = img.convert(\"RGB\")\n",
        "\n",
        "                    resized_img = img.resize(new_size, Image.LANCZOS)\n",
        "                    resized_img.save(output_path)\n",
        "\n",
        "                    #os.remove(source_path) # Remove the original images\n",
        "            except Exception as e:\n",
        "                print(f\"File error {source_path}: {e}\")\n",
        "\n",
        "        elif os.path.isdir(source_path):\n",
        "\n",
        "            new_output_folder = output_folder + \"/\" + item\n",
        "            resize_images(source_path, new_output_folder, new_size)\n",
        "\n",
        "source_path = \"/content/data\"\n",
        "output_path = \"/content/resized_images\"\n",
        "\n",
        "resize_images(source_path, output_path)"
      ],
      "metadata": {
        "id": "V6aOgYXfTum6"
      },
      "execution_count": 37,
      "outputs": []
    },
    {
      "cell_type": "markdown",
      "source": [
        "    Define hyperparameters"
      ],
      "metadata": {
        "id": "ORBxZNMbcEdY"
      }
    },
    {
      "cell_type": "code",
      "source": [
        "epochs = 15\n",
        "batch_size = 25\n",
        "learning_rate = 0.001"
      ],
      "metadata": {
        "id": "8_xLa2u3jQ9O"
      },
      "execution_count": 38,
      "outputs": []
    },
    {
      "cell_type": "markdown",
      "source": [
        "    Loading the training, testing and validating datasets"
      ],
      "metadata": {
        "id": "XCOd6HkBcVS0"
      }
    },
    {
      "cell_type": "code",
      "source": [
        "training_data = ImageFolder(root=\"/content/resized_images/train\", transform=transforms.ToTensor())\n",
        "test_data = ImageFolder(root=\"/content/resized_images/test\", transform=transforms.ToTensor())\n",
        "validation_data = test_data = ImageFolder(root=\"/content/resized_images/validation\", transform=transforms.ToTensor())\n",
        "\n",
        "train_dataloader = DataLoader(training_data, batch_size=batch_size, shuffle=True)\n",
        "test_dataloader = DataLoader(test_data, batch_size=batch_size, shuffle=True)\n",
        "validation_dataloader = DataLoader(validation_data, batch_size=batch_size, shuffle=True)"
      ],
      "metadata": {
        "id": "0eYFhJgTd2Gv"
      },
      "execution_count": 39,
      "outputs": []
    },
    {
      "cell_type": "code",
      "source": [
        "def count_classes(dataloader):\n",
        "\n",
        "    class_counts = Counter()  # Initialize a new Counter each time\n",
        "\n",
        "    for _, labels in dataloader:\n",
        "        class_counts.update(labels.numpy())\n",
        "    return class_counts\n",
        "\n",
        "class_counts = count_classes(train_dataloader)\n",
        "\n",
        "class_indices = list(class_counts.keys())\n",
        "counts = list(class_counts.values())\n",
        "\n",
        "# Convert class indices to class names\n",
        "class_names = training_data.classes\n",
        "class_labels = [class_names[i] for i in class_indices]\n",
        "\n",
        "plt.figure(figsize=(12, 6))\n",
        "plt.bar(class_labels, counts, color='green')\n",
        "\n",
        "plt.xlabel('Classes')\n",
        "plt.ylabel('Number of instances')\n",
        "plt.title('Class distribution in training dataset')\n",
        "plt.xticks(rotation=90)\n",
        "plt.show()"
      ],
      "metadata": {
        "colab": {
          "base_uri": "https://localhost:8080/",
          "height": 644
        },
        "id": "JkmpM14ogRfD",
        "outputId": "9195df24-c612-433c-c4fa-84464a7644a8"
      },
      "execution_count": 44,
      "outputs": [
        {
          "output_type": "display_data",
          "data": {
            "text/plain": [
              "<Figure size 1200x600 with 1 Axes>"
            ],
            "image/png": "[encoded data removed]"
          },
          "metadata": {}
        }
      ]
    },
    {
      "cell_type": "markdown",
      "source": [
        "MODEL\n",
        "    \n",
        "    creating a CCN model to train the dataset"
      ],
      "metadata": {
        "id": "8n7CQJfiGsvN"
      }
    },
    {
      "cell_type": "code",
      "source": [
        "class MyCNN(nn.Module):\n",
        "  def __init__(self):\n",
        "    super().__init__()\n",
        "    self.cnn = nn.Sequential(\n",
        "\n",
        "      nn.Conv2d(3,5,3),\n",
        "      nn.ReLU(),\n",
        "      nn.Conv2d(5,10,3),\n",
        "      nn.ReLU(),\n",
        "      nn.MaxPool2d(2)\n",
        "    )\n",
        "\n",
        "    self.mlp = nn.Sequential(\n",
        "\n",
        "      nn.Linear(10*62*62,10),\n",
        "      nn.Linear(10,36)\n",
        "\n",
        "      )\n",
        "\n",
        "  def forward(self,x):\n",
        "\n",
        "      x = self.cnn(x)\n",
        "      x = torch.flatten(x,1)\n",
        "      x = self.mlp(x)\n",
        "      return x"
      ],
      "metadata": {
        "id": "_dEnSBApkA-t"
      },
      "execution_count": 45,
      "outputs": []
    },
    {
      "cell_type": "code",
      "source": [
        "model = MyCNN()"
      ],
      "metadata": {
        "id": "jNDlws-kkrL-"
      },
      "execution_count": 46,
      "outputs": []
    },
    {
      "cell_type": "code",
      "source": [
        "loss_fn = nn.CrossEntropyLoss()\n",
        "optimizer = torch.optim.AdamW(model.parameters(),lr=learning_rate)\n"
      ],
      "metadata": {
        "id": "HY9ZH9lpi_E9"
      },
      "execution_count": 47,
      "outputs": []
    },
    {
      "cell_type": "code",
      "source": [
        "# Accucary metric\n",
        "metric = torchmetrics.Accuracy(task=\"multiclass\", num_classes=36)\n"
      ],
      "metadata": {
        "id": "YNgfIf6YjCmW"
      },
      "execution_count": 48,
      "outputs": []
    },
    {
      "cell_type": "markdown",
      "source": [
        "    Define the training loop"
      ],
      "metadata": {
        "id": "eVnSJmN4dKCL"
      }
    },
    {
      "cell_type": "code",
      "source": [
        "def train_loop(dataloader, model,loss_fn,optimizer):\n",
        "\n",
        "  for batch,(X,y) in enumerate(dataloader):\n",
        "\n",
        "    pred = model(X)\n",
        "    loss = loss_fn(pred,y)\n",
        "\n",
        "    loss.backward()\n",
        "    optimizer.step()\n",
        "    optimizer.zero_grad()\n",
        "\n",
        "    if batch % 20 == 0:\n",
        "      acc = metric(pred,y)\n",
        "      print(f\"accuracy current batch: {acc}\")\n",
        "\n",
        "  acc = metric.compute()\n",
        "  print(f\"training final accuracy for each epoch : {acc}\")\n",
        "  metric.reset()"
      ],
      "metadata": {
        "id": "HeqVprWblMx9"
      },
      "execution_count": 49,
      "outputs": []
    },
    {
      "cell_type": "markdown",
      "source": [
        "    Define the test loop"
      ],
      "metadata": {
        "id": "84I6LjZtdQoT"
      }
    },
    {
      "cell_type": "code",
      "source": [
        "def test_loop(dataloader, model, loss_fn):\n",
        "  size = len(dataloader)\n",
        "  num_batches = len(dataloader)\n",
        "  test_loss, correct = 0,0\n",
        "\n",
        "  with torch.no_grad():\n",
        "    for X,y in dataloader:\n",
        "      pred = model(X)\n",
        "      acc = metric(pred,y)\n",
        "  acc = metric.compute()\n",
        "  print(f\"testing final accuracy for each epoch : {acc}\")\n",
        "  metric.reset()\n"
      ],
      "metadata": {
        "id": "3fHHIvLylRd8"
      },
      "execution_count": 50,
      "outputs": []
    },
    {
      "cell_type": "markdown",
      "source": [
        "MODEL TRAINING"
      ],
      "metadata": {
        "id": "NSDwntXEG0WV"
      }
    },
    {
      "cell_type": "code",
      "source": [
        "for t in range(epochs):\n",
        "  print(f\"epoch: {t}\")\n",
        "  train_loop(train_dataloader,model, loss_fn,optimizer)\n",
        "  test_loop(test_dataloader,model,loss_fn)"
      ],
      "metadata": {
        "colab": {
          "base_uri": "https://localhost:8080/"
        },
        "id": "uyOA63_8lTT0",
        "outputId": "8639c905-5347-4364-b034-6dde3dd01987"
      },
      "execution_count": 51,
      "outputs": [
        {
          "output_type": "stream",
          "name": "stdout",
          "text": [
            "epoch: 0\n",
            "accuracy current batch: 0.0\n",
            "accuracy current batch: 0.07999999821186066\n",
            "accuracy current batch: 0.03999999910593033\n",
            "accuracy current batch: 0.1599999964237213\n",
            "accuracy current batch: 0.03999999910593033\n",
            "accuracy current batch: 0.07999999821186066\n",
            "accuracy current batch: 0.03999999910593033\n",
            "training final accuracy for each epoch : 0.06285714358091354\n",
            "testing final accuracy for each epoch : 0.14529915153980255\n",
            "epoch: 1\n",
            "accuracy current batch: 0.03999999910593033\n",
            "accuracy current batch: 0.03999999910593033\n",
            "accuracy current batch: 0.11999999731779099\n",
            "accuracy current batch: 0.11999999731779099\n",
            "accuracy current batch: 0.11999999731779099\n",
            "accuracy current batch: 0.20000000298023224\n",
            "accuracy current batch: 0.11999999731779099\n",
            "training final accuracy for each epoch : 0.10857142508029938\n",
            "testing final accuracy for each epoch : 0.2735042870044708\n",
            "epoch: 2\n",
            "accuracy current batch: 0.1599999964237213\n",
            "accuracy current batch: 0.07999999821186066\n",
            "accuracy current batch: 0.2800000011920929\n",
            "accuracy current batch: 0.20000000298023224\n",
            "accuracy current batch: 0.20000000298023224\n",
            "accuracy current batch: 0.20000000298023224\n",
            "accuracy current batch: 0.2800000011920929\n",
            "training final accuracy for each epoch : 0.20000000298023224\n",
            "testing final accuracy for each epoch : 0.47863247990608215\n",
            "epoch: 3\n",
            "accuracy current batch: 0.4000000059604645\n",
            "accuracy current batch: 0.3199999928474426\n",
            "accuracy current batch: 0.5199999809265137\n",
            "accuracy current batch: 0.4000000059604645\n",
            "accuracy current batch: 0.6399999856948853\n",
            "accuracy current batch: 0.47999998927116394\n",
            "accuracy current batch: 0.20000000298023224\n",
            "training final accuracy for each epoch : 0.4228571355342865\n",
            "testing final accuracy for each epoch : 0.7065526843070984\n",
            "epoch: 4\n",
            "accuracy current batch: 0.5199999809265137\n",
            "accuracy current batch: 0.6000000238418579\n",
            "accuracy current batch: 0.5199999809265137\n",
            "accuracy current batch: 0.6800000071525574\n",
            "accuracy current batch: 0.3199999928474426\n",
            "accuracy current batch: 0.4000000059604645\n",
            "accuracy current batch: 0.4399999976158142\n",
            "training final accuracy for each epoch : 0.49714285135269165\n",
            "testing final accuracy for each epoch : 0.7806267738342285\n",
            "epoch: 5\n",
            "accuracy current batch: 0.6000000238418579\n",
            "accuracy current batch: 0.7200000286102295\n",
            "accuracy current batch: 0.7200000286102295\n",
            "accuracy current batch: 0.6399999856948853\n",
            "accuracy current batch: 0.6399999856948853\n",
            "accuracy current batch: 0.6800000071525574\n",
            "accuracy current batch: 0.6000000238418579\n",
            "training final accuracy for each epoch : 0.6571428775787354\n",
            "testing final accuracy for each epoch : 0.8547008633613586\n",
            "epoch: 6\n",
            "accuracy current batch: 0.9200000166893005\n",
            "accuracy current batch: 0.7599999904632568\n",
            "accuracy current batch: 0.6800000071525574\n",
            "accuracy current batch: 0.7599999904632568\n",
            "accuracy current batch: 0.7599999904632568\n",
            "accuracy current batch: 0.6800000071525574\n",
            "accuracy current batch: 0.7599999904632568\n",
            "training final accuracy for each epoch : 0.7599999904632568\n",
            "testing final accuracy for each epoch : 0.8831908702850342\n",
            "epoch: 7\n",
            "accuracy current batch: 0.8799999952316284\n",
            "accuracy current batch: 0.7599999904632568\n",
            "accuracy current batch: 0.8399999737739563\n",
            "accuracy current batch: 0.9200000166893005\n",
            "accuracy current batch: 0.8399999737739563\n",
            "accuracy current batch: 0.6399999856948853\n",
            "accuracy current batch: 0.6800000071525574\n",
            "training final accuracy for each epoch : 0.7942857146263123\n",
            "testing final accuracy for each epoch : 0.9316239356994629\n",
            "epoch: 8\n",
            "accuracy current batch: 0.9200000166893005\n",
            "accuracy current batch: 0.9599999785423279\n",
            "accuracy current batch: 0.9200000166893005\n",
            "accuracy current batch: 0.8799999952316284\n",
            "accuracy current batch: 0.8799999952316284\n",
            "accuracy current batch: 0.9200000166893005\n",
            "accuracy current batch: 0.9200000166893005\n",
            "training final accuracy for each epoch : 0.9142857193946838\n",
            "testing final accuracy for each epoch : 0.934472918510437\n",
            "epoch: 9\n",
            "accuracy current batch: 0.800000011920929\n",
            "accuracy current batch: 0.9599999785423279\n",
            "accuracy current batch: 0.9200000166893005\n",
            "accuracy current batch: 0.8799999952316284\n",
            "accuracy current batch: 0.8799999952316284\n",
            "accuracy current batch: 0.9200000166893005\n",
            "accuracy current batch: 0.9599999785423279\n",
            "training final accuracy for each epoch : 0.9028571248054504\n",
            "testing final accuracy for each epoch : 0.9544159770011902\n",
            "epoch: 10\n",
            "accuracy current batch: 0.9599999785423279\n",
            "accuracy current batch: 0.9200000166893005\n",
            "accuracy current batch: 0.9599999785423279\n",
            "accuracy current batch: 0.9599999785423279\n",
            "accuracy current batch: 1.0\n",
            "accuracy current batch: 0.8399999737739563\n",
            "accuracy current batch: 0.8799999952316284\n",
            "training final accuracy for each epoch : 0.9314285516738892\n",
            "testing final accuracy for each epoch : 0.9544159770011902\n",
            "epoch: 11\n",
            "accuracy current batch: 1.0\n",
            "accuracy current batch: 1.0\n",
            "accuracy current batch: 0.9599999785423279\n",
            "accuracy current batch: 1.0\n",
            "accuracy current batch: 0.9599999785423279\n",
            "accuracy current batch: 1.0\n",
            "accuracy current batch: 1.0\n",
            "training final accuracy for each epoch : 0.9885714054107666\n",
            "testing final accuracy for each epoch : 0.9515669345855713\n",
            "epoch: 12\n",
            "accuracy current batch: 1.0\n",
            "accuracy current batch: 1.0\n",
            "accuracy current batch: 0.9599999785423279\n",
            "accuracy current batch: 0.9599999785423279\n",
            "accuracy current batch: 0.9200000166893005\n",
            "accuracy current batch: 1.0\n",
            "accuracy current batch: 0.9599999785423279\n",
            "training final accuracy for each epoch : 0.9714285731315613\n",
            "testing final accuracy for each epoch : 0.9544159770011902\n",
            "epoch: 13\n",
            "accuracy current batch: 1.0\n",
            "accuracy current batch: 0.9599999785423279\n",
            "accuracy current batch: 1.0\n",
            "accuracy current batch: 1.0\n",
            "accuracy current batch: 1.0\n",
            "accuracy current batch: 1.0\n",
            "accuracy current batch: 1.0\n",
            "training final accuracy for each epoch : 0.9942857027053833\n",
            "testing final accuracy for each epoch : 0.9544159770011902\n",
            "epoch: 14\n",
            "accuracy current batch: 1.0\n",
            "accuracy current batch: 1.0\n",
            "accuracy current batch: 1.0\n",
            "accuracy current batch: 0.9599999785423279\n",
            "accuracy current batch: 1.0\n",
            "accuracy current batch: 1.0\n",
            "accuracy current batch: 1.0\n",
            "training final accuracy for each epoch : 0.9942857027053833\n",
            "testing final accuracy for each epoch : 0.9601139426231384\n"
          ]
        }
      ]
    },
    {
      "cell_type": "code",
      "source": [
        "model.eval()"
      ],
      "metadata": {
        "colab": {
          "base_uri": "https://localhost:8080/"
        },
        "id": "gXJmGMEFxe6A",
        "outputId": "556f549b-f7aa-49d3-8dc6-f7093cc95a31"
      },
      "execution_count": 52,
      "outputs": [
        {
          "output_type": "execute_result",
          "data": {
            "text/plain": [
              "MyCNN(\n",
              "  (cnn): Sequential(\n",
              "    (0): Conv2d(3, 5, kernel_size=(3, 3), stride=(1, 1))\n",
              "    (1): ReLU()\n",
              "    (2): Conv2d(5, 10, kernel_size=(3, 3), stride=(1, 1))\n",
              "    (3): ReLU()\n",
              "    (4): MaxPool2d(kernel_size=2, stride=2, padding=0, dilation=1, ceil_mode=False)\n",
              "  )\n",
              "  (mlp): Sequential(\n",
              "    (0): Linear(in_features=38440, out_features=10, bias=True)\n",
              "    (1): Linear(in_features=10, out_features=36, bias=True)\n",
              "  )\n",
              ")"
            ]
          },
          "metadata": {},
          "execution_count": 52
        }
      ]
    },
    {
      "cell_type": "code",
      "source": [
        "#torch.save(model, '/content/model.pth')\n",
        "#torch.save(model.state_dict(), 'model_weights.pth')"
      ],
      "metadata": {
        "id": "Y33goRFm0kk_"
      },
      "execution_count": null,
      "outputs": []
    },
    {
      "cell_type": "markdown",
      "source": [
        "# VALIDATION DATASET ACCURACY"
      ],
      "metadata": {
        "id": "rY8WH3HrFYHF"
      }
    },
    {
      "cell_type": "code",
      "source": [
        "\n",
        "def evaluate_model(dataloader, model):\n",
        "    model.eval()\n",
        "    all_predictions = []\n",
        "    all_labels = []\n",
        "\n",
        "    with torch.no_grad():\n",
        "        for images, labels in validation_dataloader:\n",
        "            outputs = model(images)\n",
        "            _, predicted = torch.max(outputs, 1)\n",
        "            all_predictions.extend(predicted.cpu().numpy())\n",
        "            all_labels.extend(labels.cpu().numpy())\n",
        "\n",
        "    return np.array(all_predictions), np.array(all_labels)\n",
        "\n",
        "predictions, labels = evaluate_model(validation_dataloader, model)"
      ],
      "metadata": {
        "id": "GmQIPBKtE1iJ"
      },
      "execution_count": 53,
      "outputs": []
    },
    {
      "cell_type": "code",
      "source": [
        "accuracy = accuracy_score(labels, predictions)\n",
        "print(f\"Validation accuracy: {accuracy:.4f}\")\n",
        "\n",
        "report = classification_report(labels, predictions, target_names=validation_dataloader.dataset.classes)\n",
        "print(report)"
      ],
      "metadata": {
        "colab": {
          "base_uri": "https://localhost:8080/"
        },
        "id": "YC7lC8eBGAUv",
        "outputId": "3f6d1e3c-da7d-4b14-f38f-c99a82068200"
      },
      "execution_count": 54,
      "outputs": [
        {
          "output_type": "stream",
          "name": "stdout",
          "text": [
            "Validation accuracy: 0.9601\n",
            "               precision    recall  f1-score   support\n",
            "\n",
            "        apple       1.00      0.80      0.89        10\n",
            "       banana       1.00      0.78      0.88         9\n",
            "     beetroot       1.00      1.00      1.00        10\n",
            "  bell pepper       0.90      1.00      0.95         9\n",
            "      cabbage       1.00      1.00      1.00        10\n",
            "     capsicum       1.00      0.90      0.95        10\n",
            "       carrot       0.89      0.89      0.89         9\n",
            "  cauliflower       1.00      1.00      1.00        10\n",
            "chilli pepper       1.00      0.89      0.94         9\n",
            "         corn       0.82      0.90      0.86        10\n",
            "     cucumber       0.91      1.00      0.95        10\n",
            "     eggplant       1.00      1.00      1.00        10\n",
            "       garlic       0.91      1.00      0.95        10\n",
            "       ginger       1.00      1.00      1.00        10\n",
            "       grapes       1.00      1.00      1.00         9\n",
            "     jalepeno       1.00      1.00      1.00         9\n",
            "         kiwi       1.00      1.00      1.00        10\n",
            "        lemon       1.00      1.00      1.00        10\n",
            "      lettuce       1.00      1.00      1.00         9\n",
            "        mango       0.83      1.00      0.91        10\n",
            "        onion       0.91      1.00      0.95        10\n",
            "       orange       1.00      1.00      1.00         9\n",
            "      paprika       1.00      1.00      1.00        10\n",
            "         pear       1.00      1.00      1.00        10\n",
            "         peas       1.00      1.00      1.00        10\n",
            "    pineapple       0.91      1.00      0.95        10\n",
            "  pomegranate       0.77      1.00      0.87        10\n",
            "       potato       1.00      0.80      0.89        10\n",
            "      raddish       1.00      1.00      1.00         9\n",
            "    soy beans       1.00      1.00      1.00        10\n",
            "      spinach       1.00      1.00      1.00        10\n",
            "    sweetcorn       0.89      0.80      0.84        10\n",
            "  sweetpotato       1.00      0.80      0.89        10\n",
            "       tomato       1.00      1.00      1.00        10\n",
            "       turnip       1.00      1.00      1.00        10\n",
            "   watermelon       1.00      1.00      1.00        10\n",
            "\n",
            "     accuracy                           0.96       351\n",
            "    macro avg       0.96      0.96      0.96       351\n",
            " weighted avg       0.96      0.96      0.96       351\n",
            "\n"
          ]
        }
      ]
    },
    {
      "cell_type": "markdown",
      "source": [
        "# EXTRACTING THE OBJECT LABELS FROM A VIDEO"
      ],
      "metadata": {
        "id": "ZfVNjjPRFgAV"
      }
    },
    {
      "cell_type": "code",
      "source": [
        "transform = transforms.Compose([\n",
        "    transforms.Resize((128, 128)),\n",
        "    transforms.ToTensor()\n",
        "])\n",
        "\n",
        "classes = ['apple', 'banana', 'beetroot', 'bell pepper', 'cabbage', 'capsicum','carrot', 'cauliflower', 'chilli pepper', 'corn', 'cucumber',\n",
        "           'eggplant', 'garlic', 'ginger', 'grapes', 'jalapeno', 'kiwi','lemon', 'lettuce', 'mango', 'onion', 'orange', 'paprika', 'pear',\n",
        "           'peas', 'pineapple', 'pomegranate', 'potato', 'raddish', 'soy beans','spinach', 'sweetcorn', 'sweetpotato', 'tomato', 'turnip', 'watermelon'\n",
        "           ]\n",
        "\n",
        "fruit_count = {}\n",
        "\n",
        "def classify_fruit(frame, model, transform):\n",
        "    # Convert the frame to a PIL image\n",
        "    pil_img = Image.fromarray(cv2.cvtColor(frame, cv2.COLOR_BGR2RGB))\n",
        "\n",
        "    # Apply the transformations and add batch dim\n",
        "    input_tensor = transform(pil_img).unsqueeze(0)\n",
        "\n",
        "    # Perform the prediction\n",
        "    with torch.no_grad():\n",
        "        output = model(input_tensor)\n",
        "        _, predicted = torch.max(output, 1)\n",
        "        class_id = predicted.item()\n",
        "\n",
        "    return classes[class_id]\n",
        "\n",
        "video_path = \"/content/drive/MyDrive/Colab Notebooks/AI lab: final project/sample video.mp4\"\n",
        "\n",
        "cap = cv2.VideoCapture(video_path)\n",
        "\n",
        "while cap.isOpened():\n",
        "    # Read each frame from the video\n",
        "    ret, frame = cap.read()\n",
        "    if not ret:\n",
        "        break\n",
        "\n",
        "    fruit = classify_fruit(frame, model, transform)\n",
        "\n",
        "    if fruit in fruit_count:\n",
        "        fruit_count[fruit] += 1\n",
        "    else:\n",
        "        fruit_count[fruit] = 1\n",
        "\n",
        "cap.release()"
      ],
      "metadata": {
        "id": "Ss8M8lRs83c4"
      },
      "execution_count": 55,
      "outputs": []
    },
    {
      "cell_type": "code",
      "source": [
        "print(fruit_count)"
      ],
      "metadata": {
        "colab": {
          "base_uri": "https://localhost:8080/"
        },
        "id": "8OHwUNlNB4lW",
        "outputId": "6aaded0c-d802-4e65-efdf-cd896406fa35"
      },
      "execution_count": 56,
      "outputs": [
        {
          "output_type": "stream",
          "name": "stdout",
          "text": [
            "{'carrot': 75, 'apple': 10, 'sweetpotato': 63, 'tomato': 25, 'orange': 19, 'garlic': 107, 'raddish': 1, 'beetroot': 6, 'onion': 83, 'pear': 8, 'potato': 17, 'ginger': 73, 'cauliflower': 8, 'eggplant': 16, 'grapes': 3, 'lemon': 36, 'mango': 16, 'capsicum': 4}\n"
          ]
        }
      ]
    },
    {
      "cell_type": "code",
      "source": [
        "input_ingredients = [] # This is an input list to match ingredients\n",
        "for i,k in fruit_count.items():\n",
        "  if k >=50: # Arbitrary constant\n",
        "    input_ingredients.append(i)"
      ],
      "metadata": {
        "id": "yABb64UZ_da_"
      },
      "execution_count": 105,
      "outputs": []
    },
    {
      "cell_type": "code",
      "source": [
        "input_ingredients"
      ],
      "metadata": {
        "colab": {
          "base_uri": "https://localhost:8080/"
        },
        "id": "tFWn28DZxEt9",
        "outputId": "d358cdf6-a234-4757-8055-86f0e4fc72fe"
      },
      "execution_count": 86,
      "outputs": [
        {
          "output_type": "execute_result",
          "data": {
            "text/plain": [
              "['carrot', 'sweetpotato', 'garlic', 'onion', 'ginger']"
            ]
          },
          "metadata": {},
          "execution_count": 86
        }
      ]
    },
    {
      "cell_type": "markdown",
      "source": [
        "# MATCHING THE OBJECTS FOUND IN THE VIDEO TO RECEPIES"
      ],
      "metadata": {
        "id": "D83tm2QEAgs4"
      }
    },
    {
      "cell_type": "code",
      "source": [
        "dataset = pd.read_csv(\"/content/recipes_data.csv\")"
      ],
      "metadata": {
        "id": "twy_IxGYEWrQ"
      },
      "execution_count": 59,
      "outputs": []
    },
    {
      "cell_type": "code",
      "source": [
        "df = pd.DataFrame(dataset)"
      ],
      "metadata": {
        "id": "eXQH7le8EgV-"
      },
      "execution_count": 60,
      "outputs": []
    },
    {
      "cell_type": "code",
      "source": [
        "df.shape"
      ],
      "metadata": {
        "colab": {
          "base_uri": "https://localhost:8080/"
        },
        "id": "Z9Rk36Y1kze_",
        "outputId": "84397e79-1df8-4d6a-bde8-b56659bf708f"
      },
      "execution_count": 61,
      "outputs": [
        {
          "output_type": "execute_result",
          "data": {
            "text/plain": [
              "(2231142, 7)"
            ]
          },
          "metadata": {},
          "execution_count": 61
        }
      ]
    },
    {
      "cell_type": "code",
      "source": [
        "df.columns\n"
      ],
      "metadata": {
        "colab": {
          "base_uri": "https://localhost:8080/"
        },
        "id": "k7Z3Frpajfw5",
        "outputId": "5ed21ef9-80c0-495f-fa59-2dbb04171ea3"
      },
      "execution_count": 62,
      "outputs": [
        {
          "output_type": "execute_result",
          "data": {
            "text/plain": [
              "Index(['title', 'ingredients', 'directions', 'link', 'source', 'NER', 'site'], dtype='object')"
            ]
          },
          "metadata": {},
          "execution_count": 62
        }
      ]
    },
    {
      "cell_type": "code",
      "source": [
        "df['cleaned_NER'] = df['NER'].apply(lambda x: x.strip(\"[]\").replace(\",\", \"\"))\n",
        "df['cleaned_NER'] = df['cleaned_NER'].apply(lambda x: x.replace('\"', ''))"
      ],
      "metadata": {
        "id": "nPnL7GBoAxf3"
      },
      "execution_count": 63,
      "outputs": []
    },
    {
      "cell_type": "code",
      "source": [
        "# Initialize TfidfVectorizer\n",
        "vectorizer = TfidfVectorizer(stop_words='english')"
      ],
      "metadata": {
        "id": "3Po1dykxA26H"
      },
      "execution_count": 64,
      "outputs": []
    },
    {
      "cell_type": "code",
      "source": [
        "X = vectorizer.fit_transform(df['cleaned_NER'])"
      ],
      "metadata": {
        "id": "WD6a0A2yA5m2"
      },
      "execution_count": 65,
      "outputs": []
    },
    {
      "cell_type": "code",
      "source": [
        "knn = NearestNeighbors(n_neighbors=100, metric='cosine')\n",
        "knn.fit(X)\n",
        "\n",
        "#input_ingredients = ['flour',\"potato\",\"pasta\",\"fish\",\"salt\",\"oil\"]\n",
        "input_vector = vectorizer.transform(input_ingredients)\n",
        "distances, indices = knn.kneighbors(input_vector)\n"
      ],
      "metadata": {
        "id": "-6D1TcCJBDWP"
      },
      "execution_count": 102,
      "outputs": []
    },
    {
      "cell_type": "markdown",
      "source": [
        "# FINAL RESULT"
      ],
      "metadata": {
        "id": "IJZcT29GBLpZ"
      }
    },
    {
      "cell_type": "code",
      "source": [
        "count = 0\n",
        "for j in indices:\n",
        "  print(df.iloc[j[20]][\"title\"])\n",
        "  print()\n",
        "  ingredients = df.iloc[j[20]][\"NER\"].strip(\"[]\")\n",
        "  print(f\"ingredients: {ingredients}\")\n",
        "  print()\n",
        "  directions = df.iloc[j[20]][\"directions\"].strip(\"[]\")\n",
        "  wrapped_directions = textwrap.fill(directions, width=80)\n",
        "  print(wrapped_directions)\n",
        "  print(\"=============================================================\")\n",
        "  print()\n",
        "  count+=1\n",
        "  if count == 10:\n",
        "    break"
      ],
      "metadata": {
        "colab": {
          "base_uri": "https://localhost:8080/"
        },
        "id": "ETAWo4qZBN8_",
        "outputId": "d8d4919f-5091-49c4-d39c-baddccbd2c14"
      },
      "execution_count": 104,
      "outputs": [
        {
          "output_type": "stream",
          "name": "stdout",
          "text": [
            "Roasted Carrots In Olive Oil\n",
            "\n",
            "ingredients: \"olive oil\", \"carrot\"\n",
            "\n",
            "\"Peel carrots, and chop into 2\\\" lengths, then cut these in half.\", \"Fill a\n",
            "shallow casserole dish with carrots, and pour olive oil over them - enough to\n",
            "cover the carrots.\", \"Cover with tin foil and roast on bottom shelf for the last\n",
            "45 minutes (or an hour, no more) of whatever's being cooked on the middle\n",
            "shelf.\"\n",
            "=============================================================\n",
            "\n",
            "Korean Fried Cauliflower (Vegan) Recipe\n",
            "\n",
            "ingredients: \"baking powder\", \"scallions\", \"sesame seeds\", \"all-purpose\", \"vegetable\", \"unsweetened coconut flakes\", \"cold water\", \"cornstarch\", \"vodka\", \"cauliflower\", \"kosher salt\", \"recipe\"\n",
            "\n",
            "\"Preheat oil to 350\\u00b0F in a large wok, Dutch oven, or deep fryer.\", \"Combine\n",
            "cornstarch, flour, baking powder, 2 teaspoons kosher salt, sesame seeds, and\n",
            "coconut in a large bowl and whisk until homogenous. Add water and vodka and\n",
            "whisk until a smooth batter is formed, adding up to 2 tablespoons additional\n",
            "water if batter is too thick. It should have the consistency of thin paint and\n",
            "fall off of the whisk in thin ribbons that instantly disappear as they hit the\n",
            "surface of the batter in the bowl.\", \"Add cauliflower to batter. Working one at\n",
            "a time, lift one piece and allow excess batter to drip off. Carefully lower into\n",
            "hot oil. Repeat with remaining cauliflower until wok or fryer is full. Do not\n",
            "crowd pan. (You'll be able to fit about half of the cauliflower in each batch).\n",
            "Fry, using a metal spider or slotted spatula to rotate and agitate pieces as\n",
            "they cook until evenly golden brown and crisp all over, about 6 minutes.\n",
            "Transfer to a paper towel-lined plate and season immediately with salt. Keep\n",
            "warm while you fry the remaining cauliflower.\", \"Toss fried cauliflower with\n",
            "sauce and serve immediately, sprinkled with extra sesame seeds and scallions.\"\n",
            "=============================================================\n",
            "\n",
            "Barbecued Squid\n",
            "\n",
            "ingredients: \"garlic\"\n",
            "\n",
            "\"Serve this with a Thai sweet/hot chili sauce.\", \"Make a fire, preferably with\n",
            "firewood or Mexican charcoal, started from paper and kindling.\", \"Skewer the\n",
            "squid.\", \"When coals are red hot, barbecue the rings for 2 to 3 minutes per\n",
            "side, or until they are brown.\", \"Some recipes for grilled squid suggest\n",
            "marinating them.\", \"Serve hot with lemon-garlic butter.\", \"NOTE: Commercial\n",
            "charcoal and lighter fluid are petroleum products.\", \"They impart an oily flavor\n",
            "to food.\", \"Hardwood, or Mexican charcoal, a commercial product, which is made\n",
            "by burning down mesquite, both give a nice flavor and are certainly less toxic\n",
            "than petrochemicals.\"\n",
            "=============================================================\n",
            "\n",
            "Chicken Kebabs \n",
            "\n",
            "ingredients: \"onion\"\n",
            "\n",
            "\"Put the onion and garlic in a processor and blend to a pulp (this can also be\n",
            "done with a fine greater).\", \"Put the pulp, Cumin, Cayenne pepper and oil into a\n",
            "large glass bowl and mix well.\", \"Chop your chicken into 3mm cubes and add to\n",
            "the bowl; mix well, cover with clingfilm and marinade in the fridge for 1/2 hour\n",
            "or even over night if time allows.\", \"Thread the chicken onto skewers and grill\n",
            "on a medium heat until cooked through, around 10 minutes.\", \"\", \"Serve with warm\n",
            "pita and a tomato and cucumber salad.\"\n",
            "=============================================================\n",
            "\n",
            "Sweet & Spicy Baked Chicken Wings (Momofuku Bar Inspired)\n",
            "\n",
            "ingredients: \"chicken\", \"ginger\"\n",
            "\n",
            "\"Cook them to crisp perfection as in my recipe for skinny baked chicken wings.\"\n",
            "=============================================================\n",
            "\n"
          ]
        }
      ]
    },
    {
      "cell_type": "code",
      "source": [],
      "metadata": {
        "id": "lIJywiEVxQRj"
      },
      "execution_count": null,
      "outputs": []
    }
  ]
}